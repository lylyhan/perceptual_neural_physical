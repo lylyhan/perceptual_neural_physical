{
 "cells": [
  {
   "cell_type": "code",
   "execution_count": 1,
   "id": "47972512",
   "metadata": {},
   "outputs": [
    {
     "name": "stdout",
     "output_type": "stream",
     "text": [
      "functorch version: 0.2.1\n",
      "kymatio version: 0.3.dev0\n",
      "numpy version: 1.21.5\n",
      "pandas version: 1.3.5\n",
      "sklearn version: 1.1.2\n",
      "torch version: 1.12.1\n",
      "\n"
     ]
    }
   ],
   "source": [
    "import datetime\n",
    "import functorch\n",
    "import scipy.signal\n",
    "import kymatio\n",
    "from kymatio.torch import TimeFrequencyScattering1D\n",
    "import numpy as np\n",
    "import os\n",
    "import pandas as pd\n",
    "from pnp_synth.physical import ftm\n",
    "from pnp_synth.perceptual import jtfs\n",
    "import scipy.signal\n",
    "import sklearn\n",
    "from sklearn.preprocessing import MinMaxScaler\n",
    "import sys\n",
    "import time\n",
    "import torch\n",
    "\n",
    "\n",
    "csv_path = os.path.expanduser(\"~/perceptual_neural_physical/data\")\n",
    "\n",
    "for module in [functorch, kymatio, np, pd, sklearn, torch]:\n",
    "    print(\"{} version: {:s}\".format(module.__name__, module.__version__))\n",
    "print(\"\")"
   ]
  },
  {
   "cell_type": "code",
   "execution_count": 2,
   "id": "088fb9fa",
   "metadata": {},
   "outputs": [],
   "source": [
    "folds = [\"train\", \"test\", \"val\"]\n",
    "fold_dfs = {}\n",
    "for fold in folds:\n",
    "    csv_name = fold + \"_param_log_v2.csv\"\n",
    "    csv_path = os.path.join(\"..\", \"data\", csv_name)\n",
    "    fold_df = pd.read_csv(csv_path)\n",
    "    fold_dfs[fold] = fold_df\n",
    "\n",
    "full_df = pd.concat(fold_dfs.values()).sort_values(\n",
    "    by=\"ID\", ignore_index=False)\n",
    "assert len(set(full_df[\"ID\"])) == len(full_df)\n",
    "\n",
    "def preprocess_gt(full_df):\n",
    "    # takes dataframe, scale values in dataframe, output dataframe and scaler\n",
    "    train_df = full_df.loc[full_df[\"set\"] == \"train\"]\n",
    "    # normalize\n",
    "    scaler = MinMaxScaler()\n",
    "    scaler.fit(train_df.values[:, 3:-1])\n",
    "    full_df_norm = scaler.transform(\n",
    "        full_df.values[:, 3:-1]\n",
    "    )  # just a tensor, not dataframe\n",
    "    return full_df_norm, scaler\n",
    "\n",
    "full_df_norm, scaler = preprocess_gt(full_df)\n",
    "\n",
    "def pnp_forward(Phi, g, scaler, rescaled_param):\n",
    "    # Inverse parameter scaling\n",
    "    sc_max = torch.tensor(scaler.data_max_)\n",
    "    sc_min = torch.tensor(scaler.data_min_)\n",
    "    theta = rescaled_param * (sc_max - sc_min) + sc_min\n",
    "\n",
    "    # Synthesis\n",
    "    x = g(theta)\n",
    "\n",
    "    # Spectral analysis\n",
    "    S = Phi(x)\n",
    "    return S\n",
    "\n",
    "def icassp23_synth(rescaled_param):\n",
    "    return torch.nn.functional.pad(\n",
    "        ftm.rectangular_drum(rescaled_param, **ftm.constants),\n",
    "        (2**16, 0),\n",
    "        mode='constant',\n",
    "        value=0\n",
    "    )\n",
    "\n",
    "jtfs_params = dict(\n",
    "    J = 14, #scale\n",
    "    shape = (2**17, ), \n",
    "    Q = 12, #filters per octave, frequency resolution\n",
    "    T = 2**14, # time averaging in samples\n",
    "    F = 2, # frequency averaging in octaves\n",
    "    max_pad_factor=1,\n",
    "    max_pad_factor_fr=1,\n",
    "    average = True,\n",
    "    average_fr = True,\n",
    ")\n",
    "jtfs_operator = TimeFrequencyScattering1D(**jtfs_params)\n",
    "\n",
    "def icassp23_pnp_forward(rescaled_param):    \n",
    "    S = pnp_forward(\n",
    "        Phi=jtfs_operator,\n",
    "        g=icassp23_synth,\n",
    "        scaler=scaler,\n",
    "        rescaled_param=rescaled_param)\n",
    "    unpadded_S = S[:, S.shape[1]//2:, :]\n",
    "    return unpadded_S.flatten()\n",
    "\n",
    "icassp23_pnp_jacobian = functorch.jacfwd(icassp23_pnp_forward)"
   ]
  },
  {
   "cell_type": "code",
   "execution_count": 3,
   "id": "2cdf8f74",
   "metadata": {},
   "outputs": [
    {
     "name": "stdout",
     "output_type": "stream",
     "text": [
      "Total elapsed time: 00:00:36.93.\n"
     ]
    }
   ],
   "source": [
    "start_time = int(time.time())\n",
    "\n",
    "S = icassp23_pnp_forward(torch.ones((5,))*0.5)\n",
    "\n",
    "elapsed_time = time.time() - int(start_time)\n",
    "elapsed_hours = int(elapsed_time / (60 * 60))\n",
    "elapsed_minutes = int((elapsed_time % (60 * 60)) / 60)\n",
    "elapsed_seconds = elapsed_time % 60.\n",
    "elapsed_str = \"{:>02}:{:>02}:{:>05.2f}\".format(elapsed_hours,\n",
    "                                               elapsed_minutes,\n",
    "                                               elapsed_seconds)\n",
    "print(\"Total elapsed time: \" + elapsed_str + \".\")"
   ]
  },
  {
   "cell_type": "code",
   "execution_count": 4,
   "id": "54aac6ee",
   "metadata": {},
   "outputs": [
    {
     "name": "stdout",
     "output_type": "stream",
     "text": [
      "Total elapsed time: 00:03:28.28.\n"
     ]
    }
   ],
   "source": [
    "start_time = int(time.time())\n",
    "\n",
    "grads = icassp23_pnp_jacobian(torch.ones((5,))*0.5)\n",
    "JTJ = torch.matmul(grads.T, grads)\n",
    "\n",
    "elapsed_time = time.time() - int(start_time)\n",
    "elapsed_hours = int(elapsed_time / (60 * 60))\n",
    "elapsed_minutes = int((elapsed_time % (60 * 60)) / 60)\n",
    "elapsed_seconds = elapsed_time % 60.\n",
    "elapsed_str = \"{:>02}:{:>02}:{:>05.2f}\".format(elapsed_hours,\n",
    "                                               elapsed_minutes,\n",
    "                                               elapsed_seconds)\n",
    "print(\"Total elapsed time: \" + elapsed_str + \".\")\n",
    "\n"
   ]
  },
  {
   "cell_type": "code",
   "execution_count": 10,
   "id": "7e58e4b8",
   "metadata": {},
   "outputs": [
    {
     "data": {
      "text/plain": [
       "torch.return_types.svd(\n",
       "U=tensor([[-1.0000e+00, -1.7002e-03,  2.3553e-04,  2.1577e-04,  1.1748e-16],\n",
       "        [ 1.6808e-03, -9.9849e-01, -4.9252e-02, -2.4251e-02,  1.6975e-16],\n",
       "        [-3.0662e-04,  4.7945e-02, -9.9093e-01,  3.8417e-02,  1.1950e-01],\n",
       "        [-2.6269e-04,  2.5268e-02, -2.3423e-02, -9.9279e-01,  1.1480e-01],\n",
       "        [ 6.7733e-05, -8.7510e-03,  1.2280e-01,  1.1092e-01,  9.8618e-01]],\n",
       "       dtype=torch.float64),\n",
       "S=tensor([1.3816e+04, 6.8258e+01, 2.8593e+00, 2.1038e-02, 4.4271e-17],\n",
       "       dtype=torch.float64),\n",
       "V=tensor([[-1.0000e+00, -1.7002e-03,  2.3553e-04,  2.1577e-04, -1.1734e-16],\n",
       "        [ 1.6808e-03, -9.9849e-01, -4.9252e-02, -2.4251e-02, -2.1224e-16],\n",
       "        [-3.0662e-04,  4.7945e-02, -9.9093e-01,  3.8417e-02, -1.1950e-01],\n",
       "        [-2.6269e-04,  2.5268e-02, -2.3423e-02, -9.9279e-01, -1.1480e-01],\n",
       "        [ 6.7733e-05, -8.7510e-03,  1.2280e-01,  1.1092e-01, -9.8618e-01]],\n",
       "       dtype=torch.float64))"
      ]
     },
     "execution_count": 10,
     "metadata": {},
     "output_type": "execute_result"
    }
   ],
   "source": [
    "torch.svd(JTJ)"
   ]
  },
  {
   "cell_type": "code",
   "execution_count": 11,
   "id": "5783fb67",
   "metadata": {},
   "outputs": [
    {
     "data": {
      "text/plain": [
       "tensor([[ 1.3816e+04, -2.3106e+01,  4.2300e+00,  3.6264e+00, -9.3470e-01],\n",
       "        [-2.3106e+01,  6.8098e+01, -3.1353e+00, -1.7244e+00,  5.8064e-01],\n",
       "        [ 4.2300e+00, -3.1353e+00,  2.9659e+00,  1.4937e-01, -3.7677e-01],\n",
       "        [ 3.6264e+00, -1.7244e+00,  1.4937e-01,  6.6837e-02, -2.5879e-02],\n",
       "        [-9.3470e-01,  5.8064e-01, -3.7677e-01, -2.5879e-02,  4.8666e-02]],\n",
       "       dtype=torch.float64)"
      ]
     },
     "execution_count": 11,
     "metadata": {},
     "output_type": "execute_result"
    }
   ],
   "source": [
    "torch.svd(JTJ).U @ torch.diag(torch.svd(JTJ).S) @ torch.svd(JTJ).V.T"
   ]
  },
  {
   "cell_type": "code",
   "execution_count": 12,
   "id": "6e4e1a26",
   "metadata": {},
   "outputs": [
    {
     "data": {
      "text/plain": [
       "tensor([[ 1.3816e+04, -2.3106e+01,  4.2300e+00,  3.6264e+00, -9.3470e-01],\n",
       "        [-2.3106e+01,  6.8098e+01, -3.1353e+00, -1.7244e+00,  5.8064e-01],\n",
       "        [ 4.2300e+00, -3.1353e+00,  2.9659e+00,  1.4937e-01, -3.7677e-01],\n",
       "        [ 3.6264e+00, -1.7244e+00,  1.4937e-01,  6.6837e-02, -2.5879e-02],\n",
       "        [-9.3470e-01,  5.8064e-01, -3.7677e-01, -2.5879e-02,  4.8666e-02]],\n",
       "       dtype=torch.float64)"
      ]
     },
     "execution_count": 12,
     "metadata": {},
     "output_type": "execute_result"
    }
   ],
   "source": [
    "JTJ"
   ]
  },
  {
   "cell_type": "code",
   "execution_count": 26,
   "id": "0254712b",
   "metadata": {},
   "outputs": [
    {
     "data": {
      "text/plain": [
       "torch.return_types.svd(\n",
       "U=tensor([[-1.0000e+00, -1.6873e-03,  1.3530e-04, -1.8170e-04],\n",
       "        [ 1.6807e-03, -9.9964e-01, -1.7719e-02,  1.9901e-02],\n",
       "        [-2.6269e-04,  2.5248e-02, -3.9122e-01,  9.1995e-01],\n",
       "        [ 6.7725e-05, -8.5149e-03,  9.2013e-01,  3.9152e-01]],\n",
       "       dtype=torch.float64),\n",
       "S=tensor([1.3816e+04, 6.8107e+01, 4.8350e-02, 1.7804e-02], dtype=torch.float64),\n",
       "V=tensor([[-1.0000e+00, -1.6873e-03,  1.3530e-04, -1.8170e-04],\n",
       "        [ 1.6807e-03, -9.9964e-01, -1.7719e-02,  1.9901e-02],\n",
       "        [-2.6269e-04,  2.5248e-02, -3.9122e-01,  9.1995e-01],\n",
       "        [ 6.7725e-05, -8.5149e-03,  9.2013e-01,  3.9152e-01]],\n",
       "       dtype=torch.float64))"
      ]
     },
     "execution_count": 26,
     "metadata": {},
     "output_type": "execute_result"
    }
   ],
   "source": [
    "exclude = 2\n",
    "sub = torch.cat((JTJ[:exclude, :], JTJ[exclude+1:, :]), axis=0)\n",
    "sub = torch.cat((sub[:, :exclude], sub[:, exclude+1:]), axis=1)\n",
    "\n",
    "torch.svd(sub)"
   ]
  },
  {
   "cell_type": "markdown",
   "id": "8ab9a441",
   "metadata": {},
   "source": [
    "##### import matplotlib\n",
    "%matplotlib inline\n",
    "from matplotlib import pyplot as plt\n",
    "\n",
    "plt.plot(np.max(S[0,:,:].numpy(), axis=0), '-o')"
   ]
  },
  {
   "cell_type": "code",
   "execution_count": null,
   "id": "608aef45",
   "metadata": {},
   "outputs": [],
   "source": [
    "from matplotlib import pyplot as plt\n",
    "plt.plot(np.cumsum(np.sort(torch.max(np.abs(grads), axis=-1).values))[::-1])"
   ]
  },
  {
   "cell_type": "code",
   "execution_count": null,
   "id": "8aa3c4d5",
   "metadata": {},
   "outputs": [],
   "source": [
    "torch.svd(JTJ)"
   ]
  },
  {
   "cell_type": "code",
   "execution_count": null,
   "id": "b8571a77",
   "metadata": {},
   "outputs": [],
   "source": []
  }
 ],
 "metadata": {
  "kernelspec": {
   "display_name": "Python 3 (ipykernel)",
   "language": "python",
   "name": "python3"
  },
  "language_info": {
   "codemirror_mode": {
    "name": "ipython",
    "version": 3
   },
   "file_extension": ".py",
   "mimetype": "text/x-python",
   "name": "python",
   "nbconvert_exporter": "python",
   "pygments_lexer": "ipython3",
   "version": "3.9.13"
  }
 },
 "nbformat": 4,
 "nbformat_minor": 5
}
