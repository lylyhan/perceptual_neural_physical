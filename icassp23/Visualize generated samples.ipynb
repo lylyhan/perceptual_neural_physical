{
 "cells": [
  {
   "cell_type": "code",
   "execution_count": 5,
   "id": "52e8f7ee",
   "metadata": {},
   "outputs": [],
   "source": [
    "import librosa.display\n",
    "import matplotlib\n",
    "import os\n",
    "import pandas as pd\n",
    "from pnp_synth.physical import ftm\n",
    "\n",
    "folds = [\"test\", \"train\", \"val\"]\n",
    "fold_dfs = {}\n",
    "\n",
    "for fold in folds:\n",
    "    csv_name = fold + \"_param_v2.csv\"\n",
    "    csv_path = os.path.join(\"..\", \"data\", csv_name)\n",
    "    fold_df = pd.read_csv(csv_path)\n",
    "    fold_df = fold_df.rename(columns={\"Unnamed: 0\": \"ID\"})\n",
    "    fold_dfs[fold] = fold_df\n",
    "    \n",
    "full_df = pd.concat(fold_dfs.values()).sort_values(\n",
    "    by=\"ID\", ignore_index=False)\n",
    "assert len(set(full_df[\"ID\"])) == len(full_df)"
   ]
  },
  {
   "cell_type": "code",
   "execution_count": 66,
   "id": "e6d98387",
   "metadata": {},
   "outputs": [
    {
     "data": {
      "text/plain": [
       "array([0.00000000e+00, 0.00000000e+00, 0.00000000e+00, ...,\n",
       "       6.47224070e-09, 6.43502469e-09, 6.29454167e-09])"
      ]
     },
     "execution_count": 66,
     "metadata": {},
     "output_type": "execute_result"
    }
   ],
   "source": []
  },
  {
   "cell_type": "code",
   "execution_count": 113,
   "id": "dcf152f9",
   "metadata": {},
   "outputs": [
    {
     "data": {
      "text/plain": [
       "(80.0, 4000.0)"
      ]
     },
     "execution_count": 113,
     "metadata": {},
     "output_type": "execute_result"
    },
    {
     "data": {
      "image/png": "[encoded data removed]",
      "text/plain": [
       "<Figure size 400x200 with 1 Axes>"
      ]
     },
     "metadata": {},
     "output_type": "display_data"
    }
   ],
   "source": [
    "theta_keys = [\"omega\", \"tau\", \"p\", \"D\", \"alpha\"]\n",
    "theta = {key: full_df[key].median() for key in theta_keys}\n",
    "x = ftm.rectangular_drum(**theta, **ftm.constants)\n",
    "x = np.pad(x, (ftm.constants[\"sr\"]//2, 0), \"constant\")\n",
    "x = librosa.util.fix_length(x, size=3*ftm.constants[\"sr\"])\n",
    "\n",
    "vqt_params = {\"bins_per_octave\": 36}\n",
    "n_octaves = 7\n",
    "spectrogram = librosa.vqt(x, sr=ftm.constants[\"sr\"],\n",
    "    n_bins=vqt_params[\"bins_per_octave\"]*n_octaves, **vqt_params)\n",
    "logspec = librosa.amplitude_to_db(np.abs(spectrogram), amin=1e-6)\n",
    "plt.figure(figsize=(4, 2))\n",
    "librosa.display.specshow(logspec,\n",
    "    x_axis=\"s\", y_axis=\"cqt_hz\", sr=ftm.constants[\"sr\"], cmap=\"magma_r\",\n",
    "    **vqt_params)\n",
    "plt.ylabel(\"Frequency (Hz)\")\n",
    "plt.yticks([125, 250, 500, 1000, 2000, 4000], minor=False)\n",
    "plt.yticks([], minor=True)\n",
    "plt.ylim(80, 4000)"
   ]
  },
  {
   "cell_type": "code",
   "execution_count": 97,
   "id": "da553999",
   "metadata": {},
   "outputs": [
    {
     "data": {
      "text/plain": [
       "(84, 130)"
      ]
     },
     "execution_count": 97,
     "metadata": {},
     "output_type": "execute_result"
    }
   ],
   "source": [
    "logspec.shape"
   ]
  },
  {
   "cell_type": "code",
   "execution_count": null,
   "id": "f8aef538",
   "metadata": {},
   "outputs": [],
   "source": []
  }
 ],
 "metadata": {
  "kernelspec": {
   "display_name": "Python 3 (ipykernel)",
   "language": "python",
   "name": "python3"
  },
  "language_info": {
   "codemirror_mode": {
    "name": "ipython",
    "version": 3
   },
   "file_extension": ".py",
   "mimetype": "text/x-python",
   "name": "python",
   "nbconvert_exporter": "python",
   "pygments_lexer": "ipython3",
   "version": "3.10.4"
  }
 },
 "nbformat": 4,
 "nbformat_minor": 5
}
