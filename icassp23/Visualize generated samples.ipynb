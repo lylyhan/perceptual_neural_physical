{
 "cells": [
  {
   "cell_type": "code",
   "execution_count": 1,
   "id": "52e8f7ee",
   "metadata": {},
   "outputs": [],
   "source": [
    "import os\n",
    "import pandas as pd\n",
    "from pnp.physical import ftm\n",
    "\n",
    "folds = [\"test\", \"train\", \"val\"]\n",
    "fold_dfs = {}\n",
    "\n",
    "for fold in folds:\n",
    "    csv_name = fold + \"_param_v2.csv\"\n",
    "    csv_path = os.path.join(\"..\", \"data\", csv_name)\n",
    "    fold_df = pd.read_csv(csv_path)\n",
    "    fold_df = fold_df.rename(columns={\"Unnamed: 0\": \"ID\"})\n",
    "    fold_dfs[fold] = fold_df\n",
    "    \n",
    "full_df = pd.concat(fold_dfs.values()).sort_values(\n",
    "    by=\"ID\", ignore_index=False)\n",
    "assert len(set(full_df[\"ID\"])) == len(full_df)"
   ]
  },
  {
   "cell_type": "code",
   "execution_count": 4,
   "id": "dcf152f9",
   "metadata": {},
   "outputs": [
    {
     "data": {
      "text/plain": [
       "array([0.00000000e+00, 4.46210975e-05, 8.89881563e-05, ...,\n",
       "       1.33345855e-14, 1.29237385e-14, 1.25466374e-14])"
      ]
     },
     "execution_count": 4,
     "metadata": {},
     "output_type": "execute_result"
    }
   ],
   "source": [
    "theta_keys = [\"omega\", \"tau\", \"p\", \"D\", \"alpha\"]\n",
    "row = full_df.iloc[0]\n",
    "theta = {key: row[key] for key in theta_keys}\n",
    "ftm.rectangular_drum(**theta, **ftm.constants)"
   ]
  }
 ],
 "metadata": {
  "kernelspec": {
   "display_name": "Python 3 (ipykernel)",
   "language": "python",
   "name": "python3"
  },
  "language_info": {
   "codemirror_mode": {
    "name": "ipython",
    "version": 3
   },
   "file_extension": ".py",
   "mimetype": "text/x-python",
   "name": "python",
   "nbconvert_exporter": "python",
   "pygments_lexer": "ipython3",
   "version": "3.10.4"
  }
 },
 "nbformat": 4,
 "nbformat_minor": 5
}
